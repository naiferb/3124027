{
  "nbformat": 4,
  "nbformat_minor": 0,
  "metadata": {
    "colab": {
      "provenance": [],
      "authorship_tag": "ABX9TyM3YLoJQn/FBquyDkMDtfVd",
      "include_colab_link": true
    },
    "kernelspec": {
      "name": "python3",
      "display_name": "Python 3"
    },
    "language_info": {
      "name": "python"
    }
  },
  "cells": [
    {
      "cell_type": "markdown",
      "metadata": {
        "id": "view-in-github",
        "colab_type": "text"
      },
      "source": [
        "<a href=\"https://colab.research.google.com/github/naiferb/3124027/blob/main/lenguajes_programacion.ipynb\" target=\"_parent\"><img src=\"https://colab.research.google.com/assets/colab-badge.svg\" alt=\"Open In Colab\"/></a>"
      ]
    },
    {
      "cell_type": "markdown",
      "source": [
        "**Lenguajes de Programación**\n",
        "\n",
        "**¿Qué es un lenguaje de programación?**\n",
        "\n",
        "Un lenguaje de programación es un conjunto de reglas y símbolos que usamos para darle instrucciones a una computadora. Es como un \"idioma\" que las máquinas entienden y que nosotros, como programadores, utilizamos para decirles qué hacer. Hay muchos tipos de lenguajes, y cada uno tiene sus propias características y propósitos.\n",
        "\n",
        "**Diferencias entre idiomas**\n",
        "\n",
        "Los lenguajes de programación se clasifican según su nivel de abstracción y propósito:\n",
        "\n",
        "\n",
        "*   **Lenguajes de bajo nivel :** Están más cerca del lenguaje de la máquina (como el ensamblador). Son rápidos y eficientes, pero difíciles de aprender y usar.\n",
        "*   **Lenguajes de alto nivel :** Se parecen más al lenguaje humano (como Python o JavaScript). Son más fáciles de leer y escribir, ideales para principiantes y proyectos complejos.\n",
        "*   **Lenguajes visuales :** Como Scratch, utilizan bloques gráficos en lugar de texto para enseñar conceptos de programación sin preocuparse por errores de escritura.\n",
        "\n",
        "La elección de un lenguaje depende de lo que quieras hacer: crear videojuegos, aplicaciones web, analizar datos, etc.\n",
        "\n",
        "**Ejemplos prácticos**\n",
        "\n",
        "*   **Python :** Fácil de aprender, usado en ciencia de datos y automatización.\n",
        "*   **JavaScript :** Ideal para páginas web interactivas.\n",
        "\n",
        "\n",
        "\n",
        "\n",
        "\n"
      ],
      "metadata": {
        "id": "iy8o2PE5MSI3"
      }
    },
    {
      "cell_type": "markdown",
      "source": [
        "**Introducción a Python**\n",
        "\n",
        "**¿Qué es Python?**\n",
        "\n",
        "Python es un lenguaje de programación de alto nivel famoso por su simplicidad y claridad. Es perfecto para principiantes porque su sintaxis (las reglas para escribir código) es fácil de entender, pero también es poderoso y se usa en campos como desarrollo web, inteligencia artificial y análisis de datos.\n",
        "\n",
        "**Ejemplos prácticos**\n",
        "\n",
        "Aquí tienes un programa sencillo en Python:\n"
      ],
      "metadata": {
        "id": "oGcfPfXVNd6W"
      }
    },
    {
      "cell_type": "code",
      "source": [
        "print(\"Hola, mundo!\")"
      ],
      "metadata": {
        "id": "82s1Z6OMNotN"
      },
      "execution_count": null,
      "outputs": []
    },
    {
      "cell_type": "markdown",
      "source": [
        "Al ejecutar esto, la computadora muestra \"¡Hola, mundo!\" en la pantalla. ¡Es tu primer paso como programador en Python!\n",
        "\n",
        "**Ejercicio**\n",
        "\n",
        "Imagina un mensaje que quieras que la computadora muestre (por ejemplo, \"¡Me encanta programar!\"). Escribe cómo crees que se vería ese código en Python, siguiendo el ejemplo de arriba. No te preocupes si no es perfecto, es solo para practicar."
      ],
      "metadata": {
        "id": "QU_WpCBKNr5b"
      }
    },
    {
      "cell_type": "code",
      "source": [
        "# Desarrollar el ejercicio en este espacio"
      ],
      "metadata": {
        "id": "R9k83e0_OArt"
      },
      "execution_count": null,
      "outputs": []
    },
    {
      "cell_type": "markdown",
      "source": [
        "**Instalación de Python**\n",
        "\n",
        "**¿Por qué instalar Python?**\n",
        "\n",
        "Para programar en Python, necesitas instalar su intérprete, que es el programa que lee y ejecuta tu código. A continuación, te explico cómo hacerlo en tu computadora, ya sea Windows, macOS o Linux.\n",
        "\n",
        "**Pasos para instalar**\n",
        "\n",
        "\n",
        "1.   **Descarga :** Ve a https://www.python.org/downloads/ y descarga la versión más reciente para tu sistema operativo.\n",
        "2.   **Instalación :**\n",
        "  *   **Windows :** abra el instalador y marque la casilla \"Agregar Python a PATH\" antes de instalar.\n",
        "  *   **macOS :** Ejecuta el instalador y sigue las instrucciones en pantalla.\n",
        "  *   **Linux : **Python suele estar preinstalado. Si no, usa el comando sudo apt install python3 (en Ubuntu, por ejemplo).\n",
        "1.   **Verificación :** Abra una terminal (o Símbolo del sistema en Windows) y escriba python --version o python3 --version . Si ves un número como \"Python 3.11.4\" (Dependiendo de la fecha que revises este notebook puede cambiar).\n",
        "\n",
        "\n",
        "\n",
        "\n"
      ],
      "metadata": {
        "id": "rT-2IzrbOGfL"
      }
    },
    {
      "cell_type": "markdown",
      "source": [
        "**El intérprete de Python**\n",
        "\n",
        "**¿Qué es el intérprete?**\n",
        "\n",
        "El intérprete de Python es el programa que ejecuta tu código. Puedes usarlo de dos formas:\n",
        "\n",
        "*   **Modo interactivo :** escribe comandos en tiempo real y ves los resultados al instante.\n",
        "*   **Scripts :** Guarda tu código en un archivo .py y lo ejecutas completo.\n",
        "\n",
        "\n",
        "\n",
        "**Ejemplos prácticos**\n",
        "\n",
        "**Modo interactivo :** Abre la terminal, escribe python (o python3 ) y luego:\n"
      ],
      "metadata": {
        "id": "k5tMTDfnPsKi"
      }
    },
    {
      "cell_type": "code",
      "source": [
        ">>> print(\"Hola desde Python\")"
      ],
      "metadata": {
        "id": "nRvYYNNpQPGP"
      },
      "execution_count": null,
      "outputs": []
    },
    {
      "cell_type": "markdown",
      "source": [
        "Verás \"Hola desde Python\" inmediatamente.\n",
        "\n",
        "**Script :** Crea un archivo llamado hola.py con:"
      ],
      "metadata": {
        "id": "yk_mdzVgQTKt"
      }
    },
    {
      "cell_type": "code",
      "source": [
        "print(\"Hola desde un archivo\")"
      ],
      "metadata": {
        "id": "1C7UG3FfQaXm"
      },
      "execution_count": null,
      "outputs": []
    },
    {
      "cell_type": "markdown",
      "source": [
        "En la terminal, ve a la carpeta del archivo y escribe python hola.py. ¡Verás el mensaje en pantalla!\n",
        "\n",
        "Ahora entiendes qué son los lenguajes de programación y sus diferencias, has instalado Python y usado su intérprete."
      ],
      "metadata": {
        "id": "z10vXECWQhA2"
      }
    }
  ]
}