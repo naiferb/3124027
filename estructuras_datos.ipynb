{
  "nbformat": 4,
  "nbformat_minor": 0,
  "metadata": {
    "colab": {
      "provenance": [],
      "authorship_tag": "ABX9TyNWBdNvyzy9F1SJWphLWRZf",
      "include_colab_link": true
    },
    "kernelspec": {
      "name": "python3",
      "display_name": "Python 3"
    },
    "language_info": {
      "name": "python"
    }
  },
  "cells": [
    {
      "cell_type": "markdown",
      "metadata": {
        "id": "view-in-github",
        "colab_type": "text"
      },
      "source": [
        "<a href=\"https://colab.research.google.com/github/naiferb/3124027/blob/main/estructuras_datos.ipynb\" target=\"_parent\"><img src=\"https://colab.research.google.com/assets/colab-badge.svg\" alt=\"Open In Colab\"/></a>"
      ]
    },
    {
      "cell_type": "markdown",
      "source": [
        "**Estructuras de Datos en Python**\n",
        "\n",
        "Las estructuras de datos son formas organizadas de almacenar y gestionar información en un programa. En el análisis de datos y desarrollo web, son esenciales para manejar grandes volúmenes de información, realizar operaciones rápidas y mantener el código claro y eficiente. En este cuaderno, aprenderemos sobre las estructuras de datos más útiles en Python para este propósito:\n",
        "\n",
        "*   **Tuplas:** Colecciones inmutables de elementos.\n",
        "*   **Listas:** Colecciones mutables y versátiles.\n",
        "*   **Diccionarios:** Estructuras clave-valor para datos estructurados.\n",
        "*   **Sets:** Colecciones de elementos únicos.\n",
        "\n",
        "\n",
        "\n",
        "\n",
        "\n",
        "\n",
        "\n"
      ],
      "metadata": {
        "id": "Rm2qPF1YDXna"
      }
    },
    {
      "cell_type": "markdown",
      "source": [
        "**Tuplas**\n",
        "\n",
        "Las tuplas son estructuras de datos inmutables, lo que significa que no se pueden modificar después de crearse. Son ideales para almacenar datos que no deben cambiar, como coordenadas o configuraciones fijas.\n",
        "\n",
        "**Creación de Tuplas**\n",
        "\n",
        "Se crean usando paréntesis () o separando elementos por comas:"
      ],
      "metadata": {
        "id": "gBzYsnadD7UR"
      }
    },
    {
      "cell_type": "code",
      "source": [
        "# Tupla con paréntesis\n",
        "mi_tupla = (1, 2, 3)\n",
        "\n",
        "# Tupla sin paréntesis\n",
        "otra_tupla = 4, 5, 6"
      ],
      "metadata": {
        "id": "G7yfC7t6EEgk"
      },
      "execution_count": null,
      "outputs": []
    },
    {
      "cell_type": "markdown",
      "source": [
        "**Acceso a Elementos**\n",
        "\n",
        "Usa índices (empezando en 0) para acceder a los elementos:"
      ],
      "metadata": {
        "id": "TM6pzxwFEHsf"
      }
    },
    {
      "cell_type": "code",
      "source": [
        "print(mi_tupla[0])  # Output: 1"
      ],
      "metadata": {
        "id": "nObcLHjtEMZc"
      },
      "execution_count": null,
      "outputs": []
    },
    {
      "cell_type": "markdown",
      "source": [
        "**Operaciones Básicas**\n",
        "*   **Concatenación:** Une dos tuplas.\n",
        "\n"
      ],
      "metadata": {
        "id": "MwMiZTvUEOhD"
      }
    },
    {
      "cell_type": "code",
      "source": [
        "tupla1 = (1, 2)\n",
        "tupla2 = (3, 4)\n",
        "tupla_concatenada = tupla1 + tupla2  # (1, 2, 3, 4)"
      ],
      "metadata": {
        "id": "PmKEqK39EXbs"
      },
      "execution_count": null,
      "outputs": []
    },
    {
      "cell_type": "markdown",
      "source": [
        "\n",
        "*   **Repetición:** Repite los elementos.\n",
        "\n"
      ],
      "metadata": {
        "id": "3OfRNEsPEYZI"
      }
    },
    {
      "cell_type": "code",
      "source": [
        "tupla_repetida = tupla1 * 2  # (1, 2, 1, 2)"
      ],
      "metadata": {
        "id": "3zqSWQs3EhXc"
      },
      "execution_count": null,
      "outputs": []
    },
    {
      "cell_type": "markdown",
      "source": [
        "**Ejemplo en Análisis de Datos**\n",
        "\n",
        "Las tuplas son útiles para datos fijos, como coordenadas geográficas:"
      ],
      "metadata": {
        "id": "EByBY931EiK8"
      }
    },
    {
      "cell_type": "code",
      "source": [
        "coordenadas = (2.57286, -72.64591)  # Latitud y longitud de San José del Guaviare"
      ],
      "metadata": {
        "id": "uApiPtrAEtsO"
      },
      "execution_count": null,
      "outputs": []
    },
    {
      "cell_type": "markdown",
      "source": [
        "**Listas**\n",
        "\n",
        "Las listas son estructuras de datos mutables y ordenadas, lo que las hace una de las herramientas más usadas en Python. Permiten agregar, eliminar y modificar elementos, siendo ideales para colecciones dinámicas.\n",
        "\n",
        "**Creación de Listas**\n",
        "\n",
        "Se crean con corchetes []:"
      ],
      "metadata": {
        "id": "-dCPQV_IFDv_"
      }
    },
    {
      "cell_type": "code",
      "source": [
        "mi_lista = [1, 2, 3, 4]"
      ],
      "metadata": {
        "id": "3IPBbCSnFQyj"
      },
      "execution_count": null,
      "outputs": []
    },
    {
      "cell_type": "markdown",
      "source": [
        "**Acceso y Modificación**\n",
        "\n",
        "Accede y modifica elementos con índices:"
      ],
      "metadata": {
        "id": "CkM_nt7rFUXc"
      }
    },
    {
      "cell_type": "code",
      "source": [
        "print(mi_lista[1])  # Output: 2\n",
        "mi_lista[1] = 10    # Ahora mi_lista es [1, 10, 3, 4]"
      ],
      "metadata": {
        "id": "HafKN_wfFYT9"
      },
      "execution_count": null,
      "outputs": []
    },
    {
      "cell_type": "markdown",
      "source": [
        "**Métodos Útiles**\n",
        "\n",
        "\n",
        "*   **append():** Agrega un elemento al final.\n"
      ],
      "metadata": {
        "id": "Dv5R8O5-FeRP"
      }
    },
    {
      "cell_type": "code",
      "source": [
        "mi_lista.append(5)  # [1, 10, 3, 4, 5]"
      ],
      "metadata": {
        "id": "bUo2v2OHFpW9"
      },
      "execution_count": null,
      "outputs": []
    },
    {
      "cell_type": "markdown",
      "source": [
        "\n",
        "*   **remove():** Elimina un elemento específico."
      ],
      "metadata": {
        "id": "0yptC2RVFrvK"
      }
    },
    {
      "cell_type": "code",
      "source": [
        "mi_lista.remove(10)  # [1, 3, 4, 5]"
      ],
      "metadata": {
        "id": "lLPzE6VsF0KS"
      },
      "execution_count": null,
      "outputs": []
    },
    {
      "cell_type": "markdown",
      "source": [
        "\n",
        "\n",
        "*   **sort():** Ordena la lista.\n",
        "\n",
        "\n"
      ],
      "metadata": {
        "id": "tZdTkhmTF1ch"
      }
    },
    {
      "cell_type": "code",
      "source": [
        "mi_lista.sort()  # [1, 3, 4, 5]"
      ],
      "metadata": {
        "id": "01PnnYMwF--W"
      },
      "execution_count": null,
      "outputs": []
    },
    {
      "cell_type": "markdown",
      "source": [
        "**Ejemplo en Análisis de Datos**\n",
        "\n",
        "Las listas son perfectas para series de datos, como temperaturas diarias:"
      ],
      "metadata": {
        "id": "-V5fKPraGALU"
      }
    },
    {
      "cell_type": "code",
      "source": [
        "temperaturas = [22.5, 23.0, 21.8, 24.1]\n",
        "temperaturas.append(25.3)  # Nueva medición"
      ],
      "metadata": {
        "id": "HIs7A6SXGJjY"
      },
      "execution_count": null,
      "outputs": []
    },
    {
      "cell_type": "markdown",
      "source": [
        "**Diccionarios**\n",
        "\n",
        "Los diccionarios son estructuras de datos que almacenan pares clave-valor, permitiendo un acceso rápido y eficiente a la información mediante claves únicas. Son ideales para datos estructurados.\n",
        "\n",
        "**Creación de Diccionarios**\n",
        "\n",
        "Se crean con llaves {}:"
      ],
      "metadata": {
        "id": "9b9Om9MxGQXG"
      }
    },
    {
      "cell_type": "code",
      "source": [
        "mi_dict = {\"nombre\": \"Ana\", \"edad\": 25, \"ciudad\": \"Madrid\"}"
      ],
      "metadata": {
        "id": "Lkth31BuGcBd"
      },
      "execution_count": null,
      "outputs": []
    },
    {
      "cell_type": "markdown",
      "source": [
        "**Acceso y Modificación**\n",
        "\n",
        "Usa las claves para acceder o modificar valores:"
      ],
      "metadata": {
        "id": "vsCb2cosGcvA"
      }
    },
    {
      "cell_type": "code",
      "source": [
        "print(mi_dict[\"nombre\"])  # Output: Ana\n",
        "mi_dict[\"edad\"] = 26      # Actualiza la edad"
      ],
      "metadata": {
        "id": "gFax8q1xGhi_"
      },
      "execution_count": null,
      "outputs": []
    },
    {
      "cell_type": "markdown",
      "source": [
        "**Métodos Útiles**\n",
        "*   keys(): Lista las claves.\n",
        "\n",
        "\n"
      ],
      "metadata": {
        "id": "x3h-TTTuGoLs"
      }
    },
    {
      "cell_type": "code",
      "source": [
        "print(mi_dict.keys())  # dict_keys(['nombre', 'edad', 'ciudad'])"
      ],
      "metadata": {
        "id": "Obr9o7BZGtCm"
      },
      "execution_count": null,
      "outputs": []
    },
    {
      "cell_type": "markdown",
      "source": [
        "*   values(): Lista los valores.\n",
        "\n"
      ],
      "metadata": {
        "id": "VECh4pU7GuEw"
      }
    },
    {
      "cell_type": "code",
      "source": [
        "print(mi_dict.values())  # dict_values(['Ana', 26, 'Madrid'])"
      ],
      "metadata": {
        "id": "gLRTRU-mGy2U"
      },
      "execution_count": null,
      "outputs": []
    },
    {
      "cell_type": "markdown",
      "source": [
        "*   items(): Lista los pares clave-valor."
      ],
      "metadata": {
        "id": "d0DmpmjAG7B-"
      }
    },
    {
      "cell_type": "code",
      "source": [
        "print(mi_dict.items())  # dict_items([('nombre', 'Ana'), ('edad', 26), ('ciudad', 'Madrid')])"
      ],
      "metadata": {
        "id": "mCpYw1qUG-dQ"
      },
      "execution_count": null,
      "outputs": []
    },
    {
      "cell_type": "markdown",
      "source": [
        "**Ejemplo en Análisis de Datos**\n",
        "\n",
        "Útiles para almacenar información estructurada, como datos de un cliente:"
      ],
      "metadata": {
        "id": "aTrmVRNKHEHK"
      }
    },
    {
      "cell_type": "code",
      "source": [
        "cliente = {\"id\": 123, \"nombre\": \"Carlos\", \"compras\": [100, 150, 200]}"
      ],
      "metadata": {
        "id": "pUdzHpGyHH0R"
      },
      "execution_count": null,
      "outputs": []
    },
    {
      "cell_type": "markdown",
      "source": [
        "**Sets**\n",
        "\n",
        "Los sets son colecciones no ordenadas de elementos únicos. Son perfectos para eliminar duplicados y realizar operaciones de conjunto como uniones o intersecciones.\n",
        "\n",
        "**Creación de Sets**\n",
        "\n",
        "Se crean con llaves {} o la función set():"
      ],
      "metadata": {
        "id": "i8DXYz7PHYVx"
      }
    },
    {
      "cell_type": "code",
      "source": [
        "mi_set = {1, 2, 3, 4}\n",
        "otro_set = set([1, 2, 2, 3])  # {1, 2, 3}, elimina duplicados"
      ],
      "metadata": {
        "id": "I5O2K3A7HdXH"
      },
      "execution_count": null,
      "outputs": []
    },
    {
      "cell_type": "markdown",
      "source": [
        "**Operaciones con Sets**\n",
        "\n",
        "\n",
        "\n",
        "*   Unión: Combina elementos de dos sets."
      ],
      "metadata": {
        "id": "udu5yWACHg9N"
      }
    },
    {
      "cell_type": "code",
      "source": [
        "set1 = {1, 2, 3}\n",
        "set2 = {3, 4, 5}\n",
        "union = set1 | set2  # {1, 2, 3, 4, 5}"
      ],
      "metadata": {
        "id": "IXmdck0fHmDW"
      },
      "execution_count": null,
      "outputs": []
    },
    {
      "cell_type": "markdown",
      "source": [
        "*   Intersección: Elementos comunes."
      ],
      "metadata": {
        "id": "2xSDilsgHp6l"
      }
    },
    {
      "cell_type": "code",
      "source": [
        "interseccion = set1 & set2  # {3}"
      ],
      "metadata": {
        "id": "o7Q0awreHscP"
      },
      "execution_count": null,
      "outputs": []
    },
    {
      "cell_type": "markdown",
      "source": [
        "\n",
        "*   Diferencia: Elementos en un set pero no en el otro."
      ],
      "metadata": {
        "id": "cXRAh2hYHuXS"
      }
    },
    {
      "cell_type": "code",
      "source": [
        "diferencia = set1 - set2  # {1, 2}"
      ],
      "metadata": {
        "id": "lHFoJDiiH2tf"
      },
      "execution_count": null,
      "outputs": []
    },
    {
      "cell_type": "markdown",
      "source": [
        "**Ejemplo en Análisis de Datos**\n",
        "  \n",
        "Perfectos para identificar elementos únicos, como clientes en dos listas:"
      ],
      "metadata": {
        "id": "IeYnjEbOH5sB"
      }
    },
    {
      "cell_type": "code",
      "source": [
        "clientes_a = {\"Ana\", \"Luis\", \"Marta\"}\n",
        "clientes_b = {\"Luis\", \"Carlos\", \"Ana\"}\n",
        "clientes_unicos = clientes_a | clientes_b  # {\"Ana\", \"Luis\", \"Marta\", \"Carlos\"}"
      ],
      "metadata": {
        "id": "6tX9ZUkOH-4M"
      },
      "execution_count": null,
      "outputs": []
    },
    {
      "cell_type": "markdown",
      "source": [
        "Ejercicios Prácticos\n",
        "**texto en negrita**\n",
        "\n",
        "**Ejercicio 1: Tuplas**\n",
        "\n",
        "Crea una tupla con las coordenadas (latitud, longitud) de tres ciudades y muestra la longitud de la tercera ciudad.\n",
        "\n"
      ],
      "metadata": {
        "id": "fFMLivJtID-i"
      }
    },
    {
      "cell_type": "code",
      "source": [
        "# Desarrollar el código acá"
      ],
      "metadata": {
        "id": "7M1oiIluIJap"
      },
      "execution_count": null,
      "outputs": []
    },
    {
      "cell_type": "markdown",
      "source": [
        "**Ejercicio 2: Listas**\n",
        "\n",
        "Dada la lista [7, 2, 9, 4], ordénala de mayor a menor y elimina el número más pequeño.\n",
        "\n"
      ],
      "metadata": {
        "id": "uO-EwLG4IOx2"
      }
    },
    {
      "cell_type": "code",
      "source": [
        "# Desarrolar el código acá"
      ],
      "metadata": {
        "id": "FkYizNiUIS57"
      },
      "execution_count": null,
      "outputs": []
    },
    {
      "cell_type": "markdown",
      "source": [
        "**Ejercicio 3: Diccionarios**\n",
        "\n",
        "Crea un diccionario para un producto con nombre, precio y stock. Aumenta el precio en un 10%.\n",
        "\n"
      ],
      "metadata": {
        "id": "It--3U51IWqj"
      }
    },
    {
      "cell_type": "code",
      "source": [
        "# Desarrollar el código acá"
      ],
      "metadata": {
        "id": "_hqPub_0Ib0F"
      },
      "execution_count": null,
      "outputs": []
    },
    {
      "cell_type": "markdown",
      "source": [
        "**Ejercicio 4: Sets**\n",
        "\n",
        "Dadas dos listas de correos ([\"a@a.com\", \"b@b.com\", \"c@c.com\"] y [\"b@b.com\", \"d@d.com\"]), encuentra los correos comunes usando sets."
      ],
      "metadata": {
        "id": "YY7vU3RJIfdh"
      }
    },
    {
      "cell_type": "code",
      "source": [
        "# Desarrollar el código acá"
      ],
      "metadata": {
        "id": "o33zd_mQIiNg"
      },
      "execution_count": null,
      "outputs": []
    },
    {
      "cell_type": "markdown",
      "source": [
        "las tuplas, listas, diccionarios y sets, cuatro estructuras de datos clave en Python. Cada una tiene un propósito único: las tuplas para datos fijos, las listas para colecciones flexibles, los diccionarios para datos estructurados y los sets para elementos únicos."
      ],
      "metadata": {
        "id": "iZULP-EzIqr8"
      }
    }
  ]
}