{
  "nbformat": 4,
  "nbformat_minor": 0,
  "metadata": {
    "colab": {
      "provenance": [],
      "authorship_tag": "ABX9TyMXdjnI6/p01dIv/ZPNmu6Z",
      "include_colab_link": true
    },
    "kernelspec": {
      "name": "python3",
      "display_name": "Python 3"
    },
    "language_info": {
      "name": "python"
    }
  },
  "cells": [
    {
      "cell_type": "markdown",
      "metadata": {
        "id": "view-in-github",
        "colab_type": "text"
      },
      "source": [
        "<a href=\"https://colab.research.google.com/github/naiferb/3124027/blob/main/conceptos_basicos.ipynb\" target=\"_parent\"><img src=\"https://colab.research.google.com/assets/colab-badge.svg\" alt=\"Open In Colab\"/></a>"
      ]
    },
    {
      "cell_type": "markdown",
      "source": [
        "**Conceptos Básicos de Python**\n",
        "\n",
        "**Variables**\n",
        "\n",
        "Una variable es como una caja etiquetada donde guarda un valor (como un número o texto) para usarla más tarde en tu programa. En Python, crear una variable es súper fácil: solo le da un nombre y le asigna un valor con el símbolo =\n",
        "\n",
        "**Ejemplos prácticos**\n",
        "\n"
      ],
      "metadata": {
        "id": "PkubR0jIT-8z"
      }
    },
    {
      "cell_type": "code",
      "source": [
        "edad = 25\n",
        "nombre = \"Ana\""
      ],
      "metadata": {
        "id": "0rK-T4mWUbC9"
      },
      "execution_count": 1,
      "outputs": []
    },
    {
      "cell_type": "markdown",
      "source": [
        "En este caso:\n",
        "\n",
        "\n",
        "*   edad guarda el numero 25.\n",
        "*   nombre guarda el texto \"Ana\".\n",
        "\n",
        "Para ver esos valores, usamos print()\n",
        "\n",
        "\n"
      ],
      "metadata": {
        "id": "5WZun9kJUcVj"
      }
    },
    {
      "cell_type": "code",
      "source": [
        "print(edad)    # Muestra: 25\n",
        "print(nombre)  # Muestra: Ana"
      ],
      "metadata": {
        "id": "y6fxaxEbUrP9"
      },
      "execution_count": null,
      "outputs": []
    },
    {
      "cell_type": "markdown",
      "source": [
        "**Reglas para nombrar variables**\n",
        "\n",
        "\n",
        "*   Deben comenzar con una letra (az, AZ) o un guión bajo (_), nunca con un número.\n",
        "*   No pueden incluir espacios ni caracteres especiales (como ! o #), excepto el guión bajo.\n",
        "*   Son sensibles a mayúsculas/minúsculas: Edad y edad son variables diferentes.\n",
        "*   Elemento de lista\n",
        "\n",
        "\n",
        "**Ejercicio**\n",
        "\n",
        "\n",
        "1.   Crea una variable llamada mi_edad con tu edad.\n",
        "2.   Crea otra variable llamada mi_nombre con tu nombre.\n",
        "1.   Imprime ambos valores usando print() .\n",
        "\n",
        "\n",
        "\n",
        "\n",
        "\n",
        "\n",
        "\n",
        "\n",
        "\n",
        "\n",
        "\n",
        "\n"
      ],
      "metadata": {
        "id": "J2DBfUtdU2mG"
      }
    },
    {
      "cell_type": "code",
      "source": [
        "# Desarrollar el ejercicio en este espacio"
      ],
      "metadata": {
        "id": "Ie-xuASXVRrI"
      },
      "execution_count": null,
      "outputs": []
    },
    {
      "cell_type": "markdown",
      "source": [
        "**Tipos de datos**\n",
        "\n",
        "Cada valor en Python tiene un **tipo de dato** que define qué puedes hacer con él. Aquí están los más comunes:\n",
        "\n",
        "\n",
        "*   **int :** Números enteros (ejemplo: 5, -10).\n",
        "*   **float : **Números decimales (ejemplo: 3.14, 0.75).\n",
        "*   **str :** Texto o cadenas de caracteres (ejemplo: \"Hola\").\n",
        "*   **bool :** Valores lógicos, solo puede ser True (verdadero) o False (falso).\n",
        "\n",
        "**Ejemplos prácticos**\n",
        "\n",
        "\n",
        "\n",
        "\n",
        "\n",
        "\n",
        "\n"
      ],
      "metadata": {
        "id": "dQO9MKX_VWfO"
      }
    },
    {
      "cell_type": "code",
      "source": [
        "edad = 25             # int\n",
        "altura = 1.75         # float\n",
        "nombre = \"Ana\"        # str\n",
        "es_estudiante = True  # bool"
      ],
      "metadata": {
        "id": "3I8fLVGdWHKK"
      },
      "execution_count": null,
      "outputs": []
    },
    {
      "cell_type": "markdown",
      "source": [
        "Puedes comprobar el tipo de una variable con la función type() :"
      ],
      "metadata": {
        "id": "iXlBUo5nWKgI"
      }
    },
    {
      "cell_type": "code",
      "source": [
        "print(type(edad))    # Muestra: <class 'int'>\n",
        "print(type(altura))  # Muestra: <class 'float'>"
      ],
      "metadata": {
        "id": "Rw8JDnYlWLn_"
      },
      "execution_count": null,
      "outputs": []
    },
    {
      "cell_type": "markdown",
      "source": [
        "**Ejercicio**\n",
        "\n",
        "Crea variables de cada tipo:\n",
        "\n",
        "\n",
        "1.   Un int con el número de hermanos que tienes.\n",
        "2.   Un flotador con tu altura en metros.\n",
        "1.   Un str con tu color favorito.\n",
        "2.   Un bool que diga si te gusta programar ( True o False ).\n",
        "\n",
        "\n",
        "\n",
        " Luego, imprime el tipo de cada variable con type() ."
      ],
      "metadata": {
        "id": "2FBWEe4oWRZW"
      }
    },
    {
      "cell_type": "code",
      "source": [
        "# Desarrollar el ejercicio en este espacio"
      ],
      "metadata": {
        "id": "VpUZ-MYcWqRj"
      },
      "execution_count": null,
      "outputs": []
    }
  ]
}