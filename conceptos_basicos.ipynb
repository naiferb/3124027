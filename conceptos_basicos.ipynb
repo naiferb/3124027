{
  "nbformat": 4,
  "nbformat_minor": 0,
  "metadata": {
    "colab": {
      "provenance": [],
      "authorship_tag": "ABX9TyMUJHvZoRMJD5htFnkl1AU5",
      "include_colab_link": true
    },
    "kernelspec": {
      "name": "python3",
      "display_name": "Python 3"
    },
    "language_info": {
      "name": "python"
    }
  },
  "cells": [
    {
      "cell_type": "markdown",
      "metadata": {
        "id": "view-in-github",
        "colab_type": "text"
      },
      "source": [
        "<a href=\"https://colab.research.google.com/github/naiferb/3124027/blob/main/conceptos_basicos.ipynb\" target=\"_parent\"><img src=\"https://colab.research.google.com/assets/colab-badge.svg\" alt=\"Open In Colab\"/></a>"
      ]
    },
    {
      "cell_type": "markdown",
      "source": [
        "**Conceptos Básicos de Python**\n",
        "\n",
        "**Variables**\n",
        "\n",
        "Una variable es como una caja etiquetada donde guarda un valor (como un número o texto) para usarla más tarde en tu programa. En Python, crear una variable es súper fácil: solo le da un nombre y le asigna un valor con el símbolo =\n",
        "\n",
        "**Ejemplos prácticos**\n",
        "\n"
      ],
      "metadata": {
        "id": "PkubR0jIT-8z"
      }
    },
    {
      "cell_type": "code",
      "source": [
        "edad = 25\n",
        "nombre = \"Ana\""
      ],
      "metadata": {
        "id": "0rK-T4mWUbC9"
      },
      "execution_count": 1,
      "outputs": []
    },
    {
      "cell_type": "markdown",
      "source": [
        "En este caso:\n",
        "\n",
        "\n",
        "*   edad guarda el numero 25.\n",
        "*   nombre guarda el texto \"Ana\".\n",
        "\n",
        "Para ver esos valores, usamos print()\n",
        "\n",
        "\n"
      ],
      "metadata": {
        "id": "5WZun9kJUcVj"
      }
    },
    {
      "cell_type": "code",
      "source": [
        "print(edad)    # Muestra: 25\n",
        "print(nombre)  # Muestra: Ana"
      ],
      "metadata": {
        "id": "y6fxaxEbUrP9"
      },
      "execution_count": null,
      "outputs": []
    },
    {
      "cell_type": "markdown",
      "source": [
        "**Reglas para nombrar variables**\n",
        "\n",
        "\n",
        "*   Deben comenzar con una letra (az, AZ) o un guión bajo (_), nunca con un número.\n",
        "*   No pueden incluir espacios ni caracteres especiales (como ! o #), excepto el guión bajo.\n",
        "*   Son sensibles a mayúsculas/minúsculas: Edad y edad son variables diferentes.\n",
        "*   Elemento de lista\n",
        "\n",
        "\n",
        "**Ejercicio**\n",
        "\n",
        "\n",
        "1.   Crea una variable llamada mi_edad con tu edad.\n",
        "2.   Crea otra variable llamada mi_nombre con tu nombre.\n",
        "1.   Imprime ambos valores usando print() .\n",
        "\n",
        "\n",
        "\n",
        "\n",
        "\n",
        "\n",
        "\n",
        "\n",
        "\n",
        "\n",
        "\n",
        "\n"
      ],
      "metadata": {
        "id": "J2DBfUtdU2mG"
      }
    },
    {
      "cell_type": "code",
      "source": [
        "# Desarrollar el ejercicio en este espacio"
      ],
      "metadata": {
        "id": "Ie-xuASXVRrI"
      },
      "execution_count": null,
      "outputs": []
    },
    {
      "cell_type": "markdown",
      "source": [
        "**Tipos de datos**\n",
        "\n",
        "Cada valor en Python tiene un **tipo de dato** que define qué puedes hacer con él. Aquí están los más comunes:\n",
        "\n",
        "\n",
        "*   **int :** Números enteros (ejemplo: 5, -10).\n",
        "*   **float :** Números decimales (ejemplo: 3.14, 0.75).\n",
        "*   **str :** Texto o cadenas de caracteres (ejemplo: \"Hola\").\n",
        "*   **bool :** Valores lógicos, solo puede ser True (verdadero) o False (falso).\n",
        "\n",
        "**Ejemplos prácticos**\n",
        "\n",
        "\n",
        "\n",
        "\n",
        "\n",
        "\n",
        "\n"
      ],
      "metadata": {
        "id": "dQO9MKX_VWfO"
      }
    },
    {
      "cell_type": "code",
      "source": [
        "edad = 25             # int\n",
        "altura = 1.75         # float\n",
        "nombre = \"Ana\"        # str\n",
        "es_estudiante = True  # bool"
      ],
      "metadata": {
        "id": "3I8fLVGdWHKK"
      },
      "execution_count": null,
      "outputs": []
    },
    {
      "cell_type": "markdown",
      "source": [
        "Puedes comprobar el tipo de una variable con la función type() :"
      ],
      "metadata": {
        "id": "iXlBUo5nWKgI"
      }
    },
    {
      "cell_type": "code",
      "source": [
        "print(type(edad))    # Muestra: <class 'int'>\n",
        "print(type(altura))  # Muestra: <class 'float'>"
      ],
      "metadata": {
        "id": "Rw8JDnYlWLn_"
      },
      "execution_count": null,
      "outputs": []
    },
    {
      "cell_type": "markdown",
      "source": [
        "**Ejercicio**\n",
        "\n",
        "Crea variables de cada tipo:\n",
        "\n",
        "\n",
        "1.   Un int con el número de hermanos que tienes.\n",
        "2.   Un flotador con tu altura en metros.\n",
        "1.   Un str con tu color favorito.\n",
        "2.   Un bool que diga si te gusta programar ( True o False ).\n",
        "\n",
        "\n",
        "\n",
        " Luego, imprime el tipo de cada variable con type() ."
      ],
      "metadata": {
        "id": "2FBWEe4oWRZW"
      }
    },
    {
      "cell_type": "code",
      "source": [
        "# Desarrollar el ejercicio en este espacio"
      ],
      "metadata": {
        "id": "VpUZ-MYcWqRj"
      },
      "execution_count": null,
      "outputs": []
    },
    {
      "cell_type": "markdown",
      "source": [
        "**Cadenas de texto**\n",
        "\n",
        "Una cadena (o str ) es un tipo de dato que representa texto. En Python, se escribe entre comillas simples ( ' ) o dobles ( \" ). Con las cadenas puedes unir textos, repetirlos o acceder a partes específicas.\n",
        "\n",
        "**Ejemplos prácticos**\n",
        "\n"
      ],
      "metadata": {
        "id": "rud52vMmXdiN"
      }
    },
    {
      "cell_type": "code",
      "source": [
        "saludo = \"Hola, \"\n",
        "nombre = \"Naifer\"\n",
        "mensaje = saludo + nombre  # Concatenación\n",
        "print(mensaje)  # Muestra: Hola, Naifer\n",
        "\n",
        "# Acceder a un carácter\n",
        "print(nombre[0])  # Muestra: N (el primer carácter empieza en 0)\n",
        "\n",
        "# Longitud del string\n",
        "print(len(nombre))  # Muestra: 3 (longitud de \"naifer\")"
      ],
      "metadata": {
        "colab": {
          "base_uri": "https://localhost:8080/"
        },
        "id": "utLkHfqJXsHN",
        "outputId": "74c11eb1-944e-4998-b785-ae54461e5b57"
      },
      "execution_count": 3,
      "outputs": [
        {
          "output_type": "stream",
          "name": "stdout",
          "text": [
            "Hola, Naifer\n",
            "N\n",
            "6\n"
          ]
        }
      ]
    },
    {
      "cell_type": "markdown",
      "source": [
        "**Operaciones comunes con cadenas**\n",
        "\n",
        "\n",
        "*   **Concatenación :** Une strings con + .\n",
        "*   **Repetición :** Repite un string con * (ejemplo: \"ja\" * 3 da \"jajaja\").\n",
        "*   **Indexación :** Acceda a un carácter con [índice] , donde 0 es el primer carácter.\n",
        "\n",
        "**Ejercicio**\n",
        "\n",
        "\n",
        "1.   Crea una ciudad variable con el nombre de tu ciudad y otro país con el nombre de tu país.\n",
        "2.   Crea una variable ubicacion uniendo ambas con un guion (ejemplo: \"Lima - Perú\").\n",
        "1.   Imprime ubicación y el primer carácter de la ciudad .\n",
        "\n",
        "\n",
        "\n",
        "\n",
        "\n",
        "\n",
        "\n",
        "\n",
        "\n",
        "\n",
        "\n",
        "\n",
        "\n",
        "\n",
        "\n"
      ],
      "metadata": {
        "id": "gO9sYHsHYLNw"
      }
    },
    {
      "cell_type": "code",
      "source": [
        "# Desarrollar ejercicio acá"
      ],
      "metadata": {
        "id": "KcHkY9-wbVIc"
      },
      "execution_count": null,
      "outputs": []
    },
    {
      "cell_type": "markdown",
      "source": [
        "**Operadores**\n",
        "\n",
        "Los operadores son símbolos que te permiten realizar operaciones con valores o variables. Hay tres categorías principales: **aritméticos** , de **comparación** y **lógicos** .\n",
        "\n",
        "**Operadores aritméticos**\n",
        "Sirven para cálculos matemáticos:\n",
        "\n",
        "\n",
        "*   '+' : suma\n",
        "*   '-' : Resta\n",
        "*   '*' : Multiplicación\n",
        "*   / : División (con decimales)\n",
        "*   // : División entera (sin decimales)\n",
        "*   % : Módulo (resto de la división)\n",
        "*   ** : Exponente\n",
        "\n",
        "**Ejemplo :**\n"
      ],
      "metadata": {
        "id": "lJPeE7XxbrtZ"
      }
    },
    {
      "cell_type": "code",
      "source": [
        "a = 10\n",
        "b = 3\n",
        "print(a + b)   # 13\n",
        "print(a / b)   # 3.333...\n",
        "print(a // b)  # 3\n",
        "print(a % b)   # 1\n",
        "print(a ** b)  # 1000"
      ],
      "metadata": {
        "id": "VQ85_4YKcWKr"
      },
      "execution_count": null,
      "outputs": []
    },
    {
      "cell_type": "markdown",
      "source": [
        "**Operadores de comparación**\n",
        "\n",
        "Comparan valores y devuelven True o False :\n",
        "\n",
        "\n",
        "*   '==' : Igual a\n",
        "*   '!=' : Diferente de\n",
        "*   '>' : Mayor que\n",
        "*   '<' : Menor que\n",
        "*   '>=' : Mayor o igual que\n",
        "*   '<=' : Menor o igual que\n",
        "\n",
        "\n",
        "\n",
        "**Ejemplo :**\n",
        "\n",
        "\n",
        "\n",
        "\n",
        "\n",
        "\n",
        "\n"
      ],
      "metadata": {
        "id": "njoh2lQccn6u"
      }
    },
    {
      "cell_type": "code",
      "source": [
        "print(5 > 3)   # True\n",
        "print(2 == 2)  # True\n",
        "print(4 != 4)  # False"
      ],
      "metadata": {
        "id": "fUVz7M8TdAW2"
      },
      "execution_count": null,
      "outputs": []
    },
    {
      "cell_type": "markdown",
      "source": [
        "**Operadores lógicos**\n",
        "\n",
        "Combinan condiciones:\n",
        "\n",
        "*   y : Verdadero si ambas condiciones son ciertas.\n",
        "*   o : Verdadero si al menos una condición es cierta.\n",
        "*   no : Invierte el valor lógico.\n",
        "\n",
        "**Ejemplo :**\n",
        "\n",
        "\n",
        "\n",
        "\n",
        "\n",
        "\n"
      ],
      "metadata": {
        "id": "gL5jj37idZig"
      }
    },
    {
      "cell_type": "code",
      "source": [
        "print(5 > 3 and 2 < 4)  # True\n",
        "print(5 > 3 or 2 > 4)   # True\n",
        "print(not 5 > 3)        # False"
      ],
      "metadata": {
        "id": "dwWLvYPydund"
      },
      "execution_count": null,
      "outputs": []
    },
    {
      "cell_type": "markdown",
      "source": [
        "**Ejercicio**\n",
        "\n",
        "\n",
        "1.   Crea dos variables numéricas: num1 y num2 , con valores distintos.\n",
        "1.   Imprima su suma, resta, multiplicación y división.\n",
        "2.   Utilice un operador de comparación para verificar si num1 es mayor que num2 .\n",
        "2.   Utilice un operador lógico para comprobar si num1 > 0 y num2 > 0 .\n"
      ],
      "metadata": {
        "id": "nW2pyVN_dzNG"
      }
    },
    {
      "cell_type": "code",
      "source": [
        "# Desarrollar el ejercicio acá"
      ],
      "metadata": {
        "id": "Z0pSvMlheF0E"
      },
      "execution_count": null,
      "outputs": []
    },
    {
      "cell_type": "markdown",
      "source": [
        "Ahora conoces los pilares de Python: variables , tipos de datos , cadenas y operadores . Estos conceptos son la base de todo lo que harás en programación."
      ],
      "metadata": {
        "id": "ZN9bYaabeJi7"
      }
    }
  ]
}