{
  "nbformat": 4,
  "nbformat_minor": 0,
  "metadata": {
    "colab": {
      "provenance": [],
      "authorship_tag": "ABX9TyO4uB5jXtB+osnX6Y+d2zbk",
      "include_colab_link": true
    },
    "kernelspec": {
      "name": "python3",
      "display_name": "Python 3"
    },
    "language_info": {
      "name": "python"
    }
  },
  "cells": [
    {
      "cell_type": "markdown",
      "metadata": {
        "id": "view-in-github",
        "colab_type": "text"
      },
      "source": [
        "<a href=\"https://colab.research.google.com/github/naiferb/3124027/blob/main/funciones.ipynb\" target=\"_parent\"><img src=\"https://colab.research.google.com/assets/colab-badge.svg\" alt=\"Open In Colab\"/></a>"
      ]
    },
    {
      "cell_type": "markdown",
      "source": [
        "# 🐍 Funciones en Python: Bloques de Código Reutilizables\n",
        "\n",
        "## 1. ¿Qué es una Función?\n",
        "\n",
        "Imagina que tienes una tarea que necesitas realizar varias veces en tu programa, como saludar a alguien o calcular el área de un círculo. En lugar de escribir el mismo código una y otra vez, puedes empaquetarlo en un **bloque reutilizable** llamado **función**.\n",
        "\n",
        "Una función es un bloque de código organizado y reutilizable que realiza una tarea específica. Las funciones ayudan a:\n",
        "\n",
        "*   **Organizar el código:** Dividen programas grandes en partes más pequeñas y manejables.\n",
        "*   **Reutilizar código:** Evitan la repetición (principio DRY - Don't Repeat Yourself). Escribes la lógica una vez y la llamas cuando la necesites.\n",
        "*   **Mejorar la legibilidad:** Un código bien estructurado con funciones es más fácil de leer y entender.\n",
        "*   **Facilitar el mantenimiento:** Si necesitas cambiar la lógica, solo lo haces en un lugar (la definición de la función).\n",
        "\n",
        "## 2. Definiendo una Función Simple (`def`)\n",
        "\n",
        "Para crear una función en Python, usamos la palabra clave `def`, seguida del nombre que le queremos dar a la función, paréntesis `()`, y dos puntos `:`. El código que pertenece a la función debe estar **indentado** (generalmente 4 espacios).\n",
        "\n",
        "**Sintaxis básica:**\n",
        "\n",
        "```python\n",
        "def nombre_de_la_funcion():\n",
        "    # Código que ejecuta la función (indentado)\n",
        "    print(\"¡Esta función ha sido llamada!\")\n",
        "    # Más código si es necesario..."
      ],
      "metadata": {
        "id": "llAxpcuv_2Ap"
      }
    },
    {
      "cell_type": "code",
      "source": [
        "\n",
        "\n",
        "\n",
        "### Celda 2: Código\n",
        "\n",
        "\n",
        "# Definimos nuestra primera función\n",
        "def saludar():\n",
        "  \"\"\"Esta función simple imprime un saludo.\"\"\" # Esto es un docstring (lo veremos luego)\n",
        "  print(\"¡Hola! Bienvenido/a a las funciones en Python.\")\n",
        "  print(\"------------------------------------------\")\n",
        "\n",
        "# Para que el código dentro de la función se ejecute, necesitamos LLAMARLA."
      ],
      "metadata": {
        "id": "SzUK5jFDACpq"
      },
      "execution_count": 2,
      "outputs": []
    },
    {
      "cell_type": "markdown",
      "source": [
        "## 3. Llamando (Invocando) una Función\n",
        "\n",
        "Definir una función no ejecuta su código. Para ejecutar el código dentro de una función, debes **llamarla** por su nombre seguido de paréntesis `()`."
      ],
      "metadata": {
        "id": "V2rqErhgAOT0"
      }
    },
    {
      "cell_type": "code",
      "source": [
        "# Llamamos a la función 'saludar' que definimos antes\n",
        "print(\"Vamos a llamar a la función 'saludar':\")\n",
        "saludar()\n",
        "\n",
        "print(\"La hemos llamado una vez. ¡Podemos llamarla de nuevo!\")\n",
        "saludar()"
      ],
      "metadata": {
        "colab": {
          "base_uri": "https://localhost:8080/"
        },
        "id": "HZKZmOwVATg-",
        "outputId": "72f130e7-0d63-484c-d1a3-0bcb2b166e14"
      },
      "execution_count": 3,
      "outputs": [
        {
          "output_type": "stream",
          "name": "stdout",
          "text": [
            "Vamos a llamar a la función 'saludar':\n",
            "¡Hola! Bienvenido/a a las funciones en Python.\n",
            "------------------------------------------\n",
            "La hemos llamado una vez. ¡Podemos llamarla de nuevo!\n",
            "¡Hola! Bienvenido/a a las funciones en Python.\n",
            "------------------------------------------\n"
          ]
        }
      ]
    },
    {
      "cell_type": "markdown",
      "source": [
        "## 4. Parámetros y Argumentos: Pasando Información a las Funciones\n",
        "\n",
        "A menudo, queremos que nuestras funciones trabajen con datos específicos cada vez que las llamamos. Por ejemplo, una función para saludar podría recibir el nombre de la persona a saludar.\n",
        "\n",
        "*   **Parámetro:** Es la variable listada dentro de los paréntesis en la *definición* de la función. Actúa como un marcador de posición para el valor que la función espera recibir.\n",
        "*   **Argumento:** Es el valor real que se envía a la función cuando se la *llama*.\n",
        "\n",
        "**Sintaxis con parámetros:**\n",
        "\n",
        "```python\n",
        "def nombre_funcion(parametro1, parametro2):\n",
        "    # Código que usa parametro1 y parametro2\n",
        "    print(f\"Recibí: {parametro1} y {parametro2}\")"
      ],
      "metadata": {
        "id": "U5ozNdXyAgGz"
      }
    },
    {
      "cell_type": "code",
      "source": [
        "\n",
        "\n",
        "### Celda 6: Código\n",
        "\n",
        "\n",
        "# Definimos una función que acepta un parámetro 'nombre'\n",
        "def saludar_a(nombre):\n",
        "  \"\"\"Saluda a la persona cuyo nombre se pasa como argumento.\"\"\"\n",
        "  print(f\"¡Hola, {nombre}! ¿Cómo estás?\")\n",
        "  print(\"------------------------------------------\")\n",
        "\n",
        "# Llamamos a la función pasando diferentes argumentos\n",
        "saludar_a(\"Ana\")       # \"Ana\" es el argumento para el parámetro 'nombre'\n",
        "saludar_a(\"Carlos\")    # \"Carlos\" es el argumento\n",
        "# saludar_a()          # Esto daría un error porque espera un argumento\n",
        "\n",
        "# Definimos una función con múltiples parámetros\n",
        "def sumar(num1, num2):\n",
        "  \"\"\"Suma dos números pasados como argumentos.\"\"\"\n",
        "  resultado = num1 + num2\n",
        "  print(f\"{num1} + {num2} = {resultado}\")\n",
        "\n",
        "# Llamamos a la función 'sumar'\n",
        "sumar(5, 3)      # 5 es el argumento para num1, 3 para num2\n",
        "sumar(100, -20)"
      ],
      "metadata": {
        "colab": {
          "base_uri": "https://localhost:8080/"
        },
        "id": "u77pXPYhAh6n",
        "outputId": "6c63b7af-5555-4297-a635-e28d6fb70c1a"
      },
      "execution_count": 4,
      "outputs": [
        {
          "output_type": "stream",
          "name": "stdout",
          "text": [
            "¡Hola, Ana! ¿Cómo estás?\n",
            "------------------------------------------\n",
            "¡Hola, Carlos! ¿Cómo estás?\n",
            "------------------------------------------\n",
            "5 + 3 = 8\n",
            "100 + -20 = 80\n"
          ]
        }
      ]
    },
    {
      "cell_type": "markdown",
      "source": [
        "## 5. Retornando Valores (`return`)\n",
        "\n",
        "Las funciones no solo pueden *hacer* cosas (como imprimir), sino que también pueden *calcular* y **devolver** un valor al lugar donde fueron llamadas. Esto se hace con la palabra clave `return`.\n",
        "\n",
        "Cuando Python encuentra una sentencia `return` en una función, sale inmediatamente de la función y envía el valor especificado de vuelta. Si una función no tiene una sentencia `return` explícita, devuelve automáticamente `None`.\n",
        "\n",
        "**Sintaxis con `return`:**\n",
        "\n",
        "```python\n",
        "def nombre_funcion(parametros):\n",
        "    # ...código para calcular algo...\n",
        "    resultado = ...\n",
        "    return resultado # Devuelve el valor de 'resultado'"
      ],
      "metadata": {
        "id": "rT9Eaw64Aydd"
      }
    },
    {
      "cell_type": "code",
      "source": [
        "\n",
        "\n",
        "\n",
        "### Celda 8: Código\n",
        "\n",
        "\n",
        "# Modificamos la función 'sumar' para que devuelva el resultado en lugar de imprimirlo\n",
        "def sumar_y_retornar(num1, num2):\n",
        "  \"\"\"Suma dos números y devuelve el resultado.\"\"\"\n",
        "  resultado = num1 + num2\n",
        "  return resultado\n",
        "\n",
        "# Llamamos a la función y guardamos el valor devuelto en una variable\n",
        "suma_calculada = sumar_y_retornar(8, 12)\n",
        "print(f\"El resultado devuelto por la función es: {suma_calculada}\")\n",
        "\n",
        "# Podemos usar el valor devuelto directamente en otras operaciones\n",
        "print(f\"El doble del resultado es: {sumar_y_retornar(10, 5) * 2}\")\n",
        "\n",
        "# Ejemplo de función sin return explícito\n",
        "def funcion_sin_retorno_explicito():\n",
        "  print(\"Esta función no devuelve nada con 'return'.\")\n",
        "\n",
        "valor_devuelto = funcion_sin_retorno_explicito()\n",
        "print(f\"Valor devuelto por la función sin return: {valor_devuelto}\") # Imprimirá None"
      ],
      "metadata": {
        "colab": {
          "base_uri": "https://localhost:8080/"
        },
        "id": "11gHNFU0A1EF",
        "outputId": "e7a5444d-e3d5-4fc7-dcf8-0be8040e9fcf"
      },
      "execution_count": 5,
      "outputs": [
        {
          "output_type": "stream",
          "name": "stdout",
          "text": [
            "El resultado devuelto por la función es: 20\n",
            "El doble del resultado es: 30\n",
            "Esta función no devuelve nada con 'return'.\n",
            "Valor devuelto por la función sin return: None\n"
          ]
        }
      ]
    },
    {
      "cell_type": "markdown",
      "source": [
        "## 6. Argumentos Posicionales vs. Argumentos Keyword (Nominales)\n",
        "\n",
        "Cuando llamas a una función, puedes pasar los argumentos de dos maneras:\n",
        "\n",
        "*   **Argumentos Posicionales:** Se asignan a los parámetros según su posición (orden). El primer argumento va al primer parámetro, el segundo al segundo, etc.\n",
        "*   **Argumentos Keyword (Nominales):** Especificas a qué parámetro corresponde cada argumento usando `nombre_parametro=valor`. El orden no importa si usas argumentos keyword.\n",
        "\n",
        "Puedes mezclar ambos tipos, pero los argumentos posicionales *siempre* deben ir antes que los argumentos keyword."
      ],
      "metadata": {
        "id": "K3bwSlKUBBD5"
      }
    },
    {
      "cell_type": "code",
      "source": [
        "def describir_mascota(tipo_animal, nombre_mascota):\n",
        "  \"\"\"Describe una mascota usando su tipo y nombre.\"\"\"\n",
        "  print(f\"Tengo un {tipo_animal} llamado {nombre_mascota}.\")\n",
        "\n",
        "# Usando argumentos posicionales (el orden importa)\n",
        "describir_mascota(\"perro\", \"Fido\")\n",
        "describir_mascota(\"gato\", \"Misu\")\n",
        "\n",
        "# Usando argumentos keyword (el orden no importa)\n",
        "describir_mascota(nombre_mascota=\"Luna\", tipo_animal=\"hamster\")\n",
        "describir_mascota(tipo_animal=\"pez\", nombre_mascota=\"Nemo\")\n",
        "\n",
        "# Mezclando (posicionales primero)\n",
        "describir_mascota(\"pájaro\", nombre_mascota=\"Piolín\")\n",
        "\n",
        "# Esto daría error (argumento posicional después de keyword):\n",
        "# describir_mascota(nombre_mascota=\"Max\", \"conejo\")"
      ],
      "metadata": {
        "colab": {
          "base_uri": "https://localhost:8080/"
        },
        "id": "iLuYDyJYBHyz",
        "outputId": "4529bec5-9796-4ba7-f80e-7ecb843449be"
      },
      "execution_count": 6,
      "outputs": [
        {
          "output_type": "stream",
          "name": "stdout",
          "text": [
            "Tengo un perro llamado Fido.\n",
            "Tengo un gato llamado Misu.\n",
            "Tengo un hamster llamado Luna.\n",
            "Tengo un pez llamado Nemo.\n",
            "Tengo un pájaro llamado Piolín.\n"
          ]
        }
      ]
    },
    {
      "cell_type": "markdown",
      "source": [
        "## 7. Argumentos por Defecto\n",
        "\n",
        "Puedes asignar un valor por defecto a uno o más parámetros en la definición de la función. Si al llamar la función no se proporciona un argumento para ese parámetro, se usará el valor por defecto.\n",
        "\n",
        "Los parámetros con valores por defecto *deben* ir después de los parámetros sin valor por defecto en la definición de la función.\n",
        "\n",
        "**Sintaxis:**\n",
        "\n",
        "```python\n",
        "def nombre_funcion(parametro_normal, parametro_con_defecto=\"valor_defecto\"):\n",
        "    # ...código..."
      ],
      "metadata": {
        "id": "J4UzixdRBPXX"
      }
    },
    {
      "cell_type": "code",
      "source": [
        "\n",
        "\n",
        "\n",
        "### Celda 12: Código\n",
        "\n",
        "\n",
        "# El parámetro 'pais' tiene un valor por defecto \"España\"\n",
        "def describir_ciudad(ciudad, pais=\"España\"):\n",
        "  \"\"\"Describe una ciudad y su país (por defecto España).\"\"\"\n",
        "  print(f\"{ciudad} está en {pais}.\")\n",
        "\n",
        "# Llamadas a la función\n",
        "describir_ciudad(\"Madrid\")             # Usa el valor por defecto para pais\n",
        "describir_ciudad(\"Barcelona\")          # Usa el valor por defecto\n",
        "describir_ciudad(\"Lisboa\", \"Portugal\") # Proporciona un valor para pais, sobreescribe el defecto\n",
        "describir_ciudad(pais=\"Francia\", ciudad=\"París\") # Usando keyword arguments"
      ],
      "metadata": {
        "colab": {
          "base_uri": "https://localhost:8080/"
        },
        "id": "1zlattVWBToj",
        "outputId": "50caa696-6a01-414b-a239-872fc12db712"
      },
      "execution_count": 7,
      "outputs": [
        {
          "output_type": "stream",
          "name": "stdout",
          "text": [
            "Madrid está en España.\n",
            "Barcelona está en España.\n",
            "Lisboa está en Portugal.\n",
            "París está en Francia.\n"
          ]
        }
      ]
    },
    {
      "cell_type": "markdown",
      "source": [
        "## 8. Ámbito de las Variables (Scope)\n",
        "\n",
        "No todas las variables son accesibles desde cualquier parte del programa. El **ámbito** (scope) de una variable determina dónde puede ser utilizada.\n",
        "\n",
        "*   **Variables Locales:** Se definen *dentro* de una función. Solo existen y pueden ser usadas dentro de esa función. Se crean cuando la función es llamada y se destruyen cuando la función termina.\n",
        "*   **Variables Globales:** Se definen *fuera* de cualquier función. Pueden ser leídas desde cualquier parte del código, incluyendo dentro de las funciones.\n",
        "\n",
        "Generalmente, es una buena práctica que las funciones operen con sus propios datos (parámetros y variables locales) y devuelvan resultados, en lugar de modificar directamente variables globales (aunque es posible con la palabra clave `global`)."
      ],
      "metadata": {
        "id": "ZuyvQQjuBgve"
      }
    },
    {
      "cell_type": "code",
      "source": [
        "variable_global = \"Soy global\"\n",
        "\n",
        "def mi_funcion():\n",
        "  variable_local = \"Soy local\"\n",
        "  print(f\"Dentro de la función: {variable_local}\")\n",
        "  # Podemos leer la variable global desde dentro\n",
        "  print(f\"Dentro de la función, leyendo global: {variable_global}\")\n",
        "\n",
        "print(f\"Fuera de la función: {variable_global}\")\n",
        "# print(f\"Fuera de la función: {variable_local}\") # Esto daría un NameError\n",
        "\n",
        "# Llamamos a la función para ver sus prints\n",
        "mi_funcion()\n",
        "\n",
        "# Ejemplo (no recomendado generalmente) de modificar una variable global\n",
        "contador = 0\n",
        "\n",
        "def incrementar_contador():\n",
        "  global contador # Indicamos que queremos usar la variable global 'contador'\n",
        "  contador += 1\n",
        "  print(f\"Contador dentro de la función: {contador}\")\n",
        "\n",
        "incrementar_contador()\n",
        "incrementar_contador()\n",
        "print(f\"Contador fuera de la función: {contador}\")"
      ],
      "metadata": {
        "id": "S128VOo9Bm5Y"
      },
      "execution_count": null,
      "outputs": []
    },
    {
      "cell_type": "markdown",
      "source": [
        "## 9. Docstrings (Cadenas de Documentación)\n",
        "\n",
        "Un **docstring** es una cadena de texto (usando comillas triples `\"\"\"Docstring aquí\"\"\"` o `'''Docstring aquí'''`) que se coloca como la primera línea dentro de la definición de una función (o módulo, clase). Sirve para documentar lo que hace la función.\n",
        "\n",
        "Es una excelente práctica incluir docstrings claros y concisos. Herramientas como `help()` y muchos editores de código los utilizan para mostrar información sobre la función.\n",
        "\n",
        "**Convención común:**\n",
        "1.  Primera línea: Resumen corto de lo que hace la función.\n",
        "2.  Línea en blanco.\n",
        "3.  Descripción más detallada (opcional).\n",
        "4.  Descripción de los argumentos (`Args:`).\n",
        "5.  Descripción de lo que retorna (`Returns:`)."
      ],
      "metadata": {
        "id": "NEPiInt3BwHd"
      }
    },
    {
      "cell_type": "code",
      "source": [
        "def calcular_area_rectangulo(base, altura):\n",
        "  \"\"\"Calcula el área de un rectángulo.\n",
        "\n",
        "  Esta función toma la base y la altura de un rectángulo y\n",
        "  devuelve su área calculada.\n",
        "\n",
        "  Args:\n",
        "    base (float or int): La longitud de la base del rectángulo.\n",
        "    altura (float or int): La altura del rectángulo.\n",
        "\n",
        "  Returns:\n",
        "    float or int: El área calculada del rectángulo, o un mensaje de error\n",
        "                  si base o altura son negativas.\n",
        "  \"\"\"\n",
        "  if base < 0 or altura < 0:\n",
        "      return \"Error: La base y la altura deben ser no negativas.\"\n",
        "  return base * altura\n",
        "\n",
        "# Podemos ver el docstring usando la función help()\n",
        "help(calcular_area_rectangulo)\n",
        "\n",
        "# También podemos acceder a él directamente a través del atributo __doc__\n",
        "print(\"\\n--- Docstring directo ---\")\n",
        "print(calcular_area_rectangulo.__doc__)\n",
        "\n",
        "# Usamos la función\n",
        "area = calcular_area_rectangulo(10, 5)\n",
        "print(f\"\\nÁrea calculada: {area}\")"
      ],
      "metadata": {
        "colab": {
          "base_uri": "https://localhost:8080/"
        },
        "id": "2Moy8cvPB4PI",
        "outputId": "9137aa94-4a87-4038-e6d9-d7c1545fd17b"
      },
      "execution_count": 10,
      "outputs": [
        {
          "output_type": "stream",
          "name": "stdout",
          "text": [
            "Help on function calcular_area_rectangulo in module __main__:\n",
            "\n",
            "calcular_area_rectangulo(base, altura)\n",
            "    Calcula el área de un rectángulo.\n",
            "    \n",
            "    Esta función toma la base y la altura de un rectángulo y\n",
            "    devuelve su área calculada.\n",
            "    \n",
            "    Args:\n",
            "      base (float or int): La longitud de la base del rectángulo.\n",
            "      altura (float or int): La altura del rectángulo.\n",
            "    \n",
            "    Returns:\n",
            "      float or int: El área calculada del rectángulo, o un mensaje de error\n",
            "                    si base o altura son negativas.\n",
            "\n",
            "\n",
            "--- Docstring directo ---\n",
            "Calcula el área de un rectángulo.\n",
            "\n",
            "  Esta función toma la base y la altura de un rectángulo y\n",
            "  devuelve su área calculada.\n",
            "\n",
            "  Args:\n",
            "    base (float or int): La longitud de la base del rectángulo.\n",
            "    altura (float or int): La altura del rectángulo.\n",
            "\n",
            "  Returns:\n",
            "    float or int: El área calculada del rectángulo, o un mensaje de error\n",
            "                  si base o altura son negativas.\n",
            "  \n",
            "\n",
            "Área calculada: 50\n"
          ]
        }
      ]
    },
    {
      "cell_type": "markdown",
      "source": [
        "## 10. Argumentos Variables: `*args` y `**kwargs`\n",
        "\n",
        "A veces, no sabemos de antemano cuántos argumentos necesitará recibir una función. Python nos permite manejar esto:\n",
        "\n",
        "*   **`*args` (Argumentos posicionales variables):** Permite pasar un número variable de argumentos *posicionales*. Dentro de la función, `args` se convierte en una **tupla** que contiene todos los argumentos posicionales extras.\n",
        "*   **`**kwargs` (Argumentos keyword variables):** Permite pasar un número variable de argumentos *keyword*. Dentro de la función, `kwargs` se convierte en un **diccionario** que contiene todos los argumentos keyword extras.\n",
        "\n",
        "**Sintaxis:**\n",
        "\n",
        "```python\n",
        "def mi_funcion(param1, param2, *args, **kwargs):\n",
        "    print(f\"param1: {param1}\")\n",
        "    print(f\"param2: {param2}\")\n",
        "    print(f\"args (tupla): {args}\")\n",
        "    print(f\"kwargs (diccionario): {kwargs}\")"
      ],
      "metadata": {
        "id": "4enV6w5VCLsS"
      }
    },
    {
      "cell_type": "code",
      "source": [
        "\n",
        "\n",
        "### Celda 18: Código\n",
        "\n",
        "# Función que suma un número variable de argumentos\n",
        "def sumar_todos(*numeros):\n",
        "  \"\"\"Suma todos los números pasados como argumentos posicionales.\"\"\"\n",
        "  print(f\"Recibí los números: {numeros} (esto es una tupla)\")\n",
        "  total = 0\n",
        "  for numero in numeros:\n",
        "    total += numero\n",
        "  return total\n",
        "\n",
        "print(sumar_todos(1, 2, 3))\n",
        "print(sumar_todos(10, 20, 30, 40, 50, 60))\n",
        "# print(sumar_todos()) # Funciona, devuelve 0\n",
        "\n",
        "print(\"-\" * 20)\n",
        "\n",
        "# Función que imprime información usando kwargs\n",
        "def imprimir_info(**datos):\n",
        "   \"\"\"Imprime la información pasada como argumentos keyword.\"\"\"\n",
        "   print(f\"Recibí los datos: {datos} (esto es un diccionario)\")\n",
        "   for clave, valor in datos.items():\n",
        "     print(f\"- {clave.capitalize()}: {valor}\")\n",
        "\n",
        "imprimir_info(nombre=\"Ana\", edad=30, ciudad=\"Madrid\")\n",
        "imprimir_info(producto=\"Laptop\", marca=\"Dell\", precio=1200, stock=True)\n",
        "\n",
        "print(\"-\" * 20)\n",
        "\n",
        "# Función combinando todo\n",
        "def ejemplo_completo(req1, req2= \"default\", *args, **kwargs):\n",
        "    print(f\"Requerido 1: {req1}\")\n",
        "    print(f\"Requerido 2 (con default): {req2}\")\n",
        "    print(f\"Argumentos posicionales extras (*args): {args}\")\n",
        "    print(f\"Argumentos keyword extras (**kwargs): {kwargs}\")\n",
        "\n",
        "ejemplo_completo(\"val1\") # Solo el requerido 1\n",
        "print(\"---\")\n",
        "ejemplo_completo(\"val1\", \"val2\") # Los dos requeridos\n",
        "print(\"---\")\n",
        "ejemplo_completo(\"val1\", \"val2\", 10, 20, 30) # Con *args\n",
        "print(\"---\")\n",
        "ejemplo_completo(\"val1\", \"val2\", 10, 20, 30, clave1=\"A\", clave2=\"B\") # Con *args y **kwargs\n",
        "print(\"---\")\n",
        "ejemplo_completo(\"val1\", clave1=\"A\", clave2=\"B\") # Saltando el default, usando keywords"
      ],
      "metadata": {
        "colab": {
          "base_uri": "https://localhost:8080/"
        },
        "id": "F7R4-oWhCTAt",
        "outputId": "90ce699d-c72d-45d0-915f-fe8e8524728e"
      },
      "execution_count": 11,
      "outputs": [
        {
          "output_type": "stream",
          "name": "stdout",
          "text": [
            "Recibí los números: (1, 2, 3) (esto es una tupla)\n",
            "6\n",
            "Recibí los números: (10, 20, 30, 40, 50, 60) (esto es una tupla)\n",
            "210\n",
            "--------------------\n",
            "Recibí los datos: {'nombre': 'Ana', 'edad': 30, 'ciudad': 'Madrid'} (esto es un diccionario)\n",
            "- Nombre: Ana\n",
            "- Edad: 30\n",
            "- Ciudad: Madrid\n",
            "Recibí los datos: {'producto': 'Laptop', 'marca': 'Dell', 'precio': 1200, 'stock': True} (esto es un diccionario)\n",
            "- Producto: Laptop\n",
            "- Marca: Dell\n",
            "- Precio: 1200\n",
            "- Stock: True\n",
            "--------------------\n",
            "Requerido 1: val1\n",
            "Requerido 2 (con default): default\n",
            "Argumentos posicionales extras (*args): ()\n",
            "Argumentos keyword extras (**kwargs): {}\n",
            "---\n",
            "Requerido 1: val1\n",
            "Requerido 2 (con default): val2\n",
            "Argumentos posicionales extras (*args): ()\n",
            "Argumentos keyword extras (**kwargs): {}\n",
            "---\n",
            "Requerido 1: val1\n",
            "Requerido 2 (con default): val2\n",
            "Argumentos posicionales extras (*args): (10, 20, 30)\n",
            "Argumentos keyword extras (**kwargs): {}\n",
            "---\n",
            "Requerido 1: val1\n",
            "Requerido 2 (con default): val2\n",
            "Argumentos posicionales extras (*args): (10, 20, 30)\n",
            "Argumentos keyword extras (**kwargs): {'clave1': 'A', 'clave2': 'B'}\n",
            "---\n",
            "Requerido 1: val1\n",
            "Requerido 2 (con default): default\n",
            "Argumentos posicionales extras (*args): ()\n",
            "Argumentos keyword extras (**kwargs): {'clave1': 'A', 'clave2': 'B'}\n"
          ]
        }
      ]
    },
    {
      "cell_type": "markdown",
      "source": [
        "## 11. Funciones Lambda (Funciones Anónimas)\n",
        "\n",
        "Son pequeñas funciones sin nombre definidas con la palabra clave `lambda`. Se limitan a una sola expresión (que es implícitamente el valor de retorno).\n",
        "\n",
        "Son útiles para tareas cortas y cuando necesitas una función rápida como argumento para otra función (por ejemplo, en `sorted()`, `map()`, `filter()`).\n",
        "\n",
        "**Sintaxis:**\n",
        "\n",
        "```python\n",
        "lambda argumentos: expresion"
      ],
      "metadata": {
        "id": "a5ZLoM-GCzkz"
      }
    },
    {
      "cell_type": "code",
      "source": [
        "\n",
        "\n",
        "\n",
        "### Celda 20: Código\n",
        "\n",
        "\n",
        "# Función lambda que suma 10 a un número\n",
        "sumar_diez = lambda x: x + 10\n",
        "print(f\"Usando lambda (15+10): {sumar_diez(15)}\")\n",
        "\n",
        "# Función lambda que multiplica dos números\n",
        "multiplicar = lambda a, b: a * b\n",
        "print(f\"Usando lambda (7*8): {multiplicar(7, 8)}\")\n",
        "\n",
        "# Caso de uso: ordenar una lista de tuplas por el segundo elemento\n",
        "puntos = [(1, 2), (3, 1), (5, 4), (2, 0)]\n",
        "puntos_ordenados = sorted(puntos, key=lambda punto: punto[1]) # Usa lambda para especificar la clave de ordenación\n",
        "print(f\"Puntos ordenados por el segundo elemento: {puntos_ordenados}\")\n",
        "\n",
        "# Caso de uso: filtrar números pares de una lista\n",
        "numeros = [1, 2, 3, 4, 5, 6, 7, 8, 9, 10]\n",
        "pares = list(filter(lambda x: x % 2 == 0, numeros)) # Usa lambda para la condición de filtrado\n",
        "print(f\"Números pares filtrados: {pares}\")"
      ],
      "metadata": {
        "colab": {
          "base_uri": "https://localhost:8080/"
        },
        "id": "KF64qMbbC19j",
        "outputId": "4ae4b304-b017-4e8f-9cc8-54d8dc6d7840"
      },
      "execution_count": 12,
      "outputs": [
        {
          "output_type": "stream",
          "name": "stdout",
          "text": [
            "Usando lambda (15+10): 25\n",
            "Usando lambda (7*8): 56\n",
            "Puntos ordenados por el segundo elemento: [(2, 0), (3, 1), (1, 2), (5, 4)]\n",
            "Números pares filtrados: [2, 4, 6, 8, 10]\n"
          ]
        }
      ]
    },
    {
      "cell_type": "markdown",
      "source": [
        "## 12. Buenas Prácticas al Escribir Funciones\n",
        "\n",
        "*   **Nombres Descriptivos:** Usa nombres que indiquen claramente lo que hace la función (convención `snake_case` en Python: `nombre_descriptivo_funcion`).\n",
        "*   **Una Tarea Específica:** Cada función debería hacer una sola cosa bien (Principio de Responsabilidad Única - SRP). Si una función hace demasiado, considera dividirla.\n",
        "*   **Docstrings:** ¡Úsalos! Documenta tus funciones para ti y para otros.\n",
        "*   **Longitud Razonable:** Intenta que las funciones no sean excesivamente largas. Si lo son, probablemente puedan dividirse.\n",
        "*   **Evita Efectos Secundarios Inesperados:** Una función idealmente toma entradas y produce salidas (retorna un valor). Modificar variables globales o el estado externo puede hacer el código más difícil de entender y depurar.\n",
        "*   **Parámetros Claros:** No uses demasiados parámetros. Si necesitas muchos, considera agruparlos en un objeto o diccionario."
      ],
      "metadata": {
        "id": "r-5LZhwsC-yz"
      }
    },
    {
      "cell_type": "markdown",
      "source": [
        "## 🎉 ¡Felicidades!\n",
        "\n",
        "Has cubierto los conceptos fundamentales de las funciones en Python. Son una herramienta esencial para escribir código eficiente, organizado y legible.\n",
        "\n"
      ],
      "metadata": {
        "id": "z57Z2rkeDFsG"
      }
    }
  ]
}