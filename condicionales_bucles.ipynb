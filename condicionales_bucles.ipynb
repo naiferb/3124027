{
  "nbformat": 4,
  "nbformat_minor": 0,
  "metadata": {
    "colab": {
      "provenance": [],
      "authorship_tag": "ABX9TyOGpps5ewLmFhTrbwrxPBqj",
      "include_colab_link": true
    },
    "kernelspec": {
      "name": "python3",
      "display_name": "Python 3"
    },
    "language_info": {
      "name": "python"
    }
  },
  "cells": [
    {
      "cell_type": "markdown",
      "metadata": {
        "id": "view-in-github",
        "colab_type": "text"
      },
      "source": [
        "<a href=\"https://colab.research.google.com/github/naiferb/3124027/blob/main/condicionales_bucles.ipynb\" target=\"_parent\"><img src=\"https://colab.research.google.com/assets/colab-badge.svg\" alt=\"Open In Colab\"/></a>"
      ]
    },
    {
      "cell_type": "markdown",
      "source": [
        "**Condicionales y Bucles en Python**\n",
        "\n",
        "aprenderemos a tomar decisiones y repetir acciones en nuestros programas usando condicionales y bucles . Estas herramientas son esenciales para que tus programas sean dinámicos y puedan responder a diferentes situaciones o automatizar tareas. Exploraremos cómo funcionan las estructuras if , elif y else para los condicionales, y los bucles for y while para repetir tareas.\n",
        "\n"
      ],
      "metadata": {
        "id": "uqgy4apC19_P"
      }
    },
    {
      "cell_type": "markdown",
      "source": [
        "**Condicionales**\n",
        "\n",
        "Los condicionales permiten que un programa tome decisiones basadas en condiciones específicas. En Python, usamos if , elif (abreviatura de \"else if\") y else para evaluar si algo es verdadero ( True ) o falso ( False ) y ejecutar el código correspondiente.\n",
        "\n",
        "**Estructura básica**\n",
        "\n"
      ],
      "metadata": {
        "id": "KhF8W6nZ2HQ7"
      }
    },
    {
      "cell_type": "code",
      "source": [
        "if condición:\n",
        "    # Código si la condición es verdadera\n",
        "elif otra_condición:\n",
        "    # Código si la otra condición es verdadera\n",
        "else:\n",
        "    # Código si ninguna condición anterior es verdadera"
      ],
      "metadata": {
        "id": "pmxhQaqX2R7n"
      },
      "execution_count": null,
      "outputs": []
    },
    {
      "cell_type": "markdown",
      "source": [
        "**Ejemplos prácticos**\n"
      ],
      "metadata": {
        "id": "Oq6nB2sF2YNN"
      }
    },
    {
      "cell_type": "code",
      "source": [
        "edad = 18\n",
        "if edad >= 18:\n",
        "    print(\"Eres mayor de edad\")\n",
        "else:\n",
        "    print(\"Eres menor de edad\")"
      ],
      "metadata": {
        "id": "aIFm9M7x2Z6l"
      },
      "execution_count": null,
      "outputs": []
    },
    {
      "cell_type": "markdown",
      "source": [
        "**Salida:**\n",
        "\n",
        "Eres mayor de edad\n",
        "\n",
        "Aquí, si edad es mayor o igual a 18, se ejecuta el bloque del if . Si no, se ejecuta el bloque del else .\n",
        "\n",
        "**Ejercicio**\n",
        "\n",
        "Escribe un programa que pida al usuario un número y determine si es positivo, negativo o cero usando if , elif y else ."
      ],
      "metadata": {
        "id": "DL2fCEX62cpa"
      }
    },
    {
      "cell_type": "code",
      "source": [
        "# Desarrollar el ejercicio acá"
      ],
      "metadata": {
        "id": "nRVs9Q6h3hHu"
      },
      "execution_count": null,
      "outputs": []
    },
    {
      "cell_type": "markdown",
      "source": [
        "**Bucles**\n",
        "\n",
        "Los bucles permiten repetir un bloque de código varias veces. En Python, tenemos dos tipos principales:\n",
        "\n",
        "\n",
        "*   **Bucle for :** Ideal cuando sabes cuántas veces quieres repetir algo (por ejemplo, recorrer una lista o un rango de números).\n",
        "*   **Bucle while :** Perfecto cuando quieres repetir algo mientras una condición sea verdadera.\n",
        "\n",
        "\n",
        "\n",
        "\n",
        "**Ejemplo de bucle para**"
      ],
      "metadata": {
        "id": "jFbyFN0_24Ku"
      }
    },
    {
      "cell_type": "code",
      "source": [
        "for i in range(5):\n",
        "    print(\"Iteración\", i)"
      ],
      "metadata": {
        "id": "CGbmqGXJ3GOS"
      },
      "execution_count": null,
      "outputs": []
    },
    {
      "cell_type": "markdown",
      "source": [
        "**Salida:**"
      ],
      "metadata": {
        "id": "f1h1FnC93JqL"
      }
    },
    {
      "cell_type": "code",
      "source": [
        "Iteración 0\n",
        "Iteración 1\n",
        "Iteración 2\n",
        "Iteración 3\n",
        "Iteración 4"
      ],
      "metadata": {
        "id": "wIv-9qZq3Knl"
      },
      "execution_count": null,
      "outputs": []
    },
    {
      "cell_type": "markdown",
      "source": [
        "**Ejemplo de bucle while**"
      ],
      "metadata": {
        "id": "xdTP-Wp83MEs"
      }
    },
    {
      "cell_type": "code",
      "source": [
        "contador = 0\n",
        "while contador < 5:\n",
        "    print(\"Contador:\", contador)\n",
        "    contador += 1"
      ],
      "metadata": {
        "id": "nHzX-GHr3Pns"
      },
      "execution_count": null,
      "outputs": []
    },
    {
      "cell_type": "markdown",
      "source": [
        "**Salida:**"
      ],
      "metadata": {
        "id": "AXqfqkga3SU7"
      }
    },
    {
      "cell_type": "code",
      "source": [
        "Contador: 0\n",
        "Contador: 1\n",
        "Contador: 2\n",
        "Contador: 3\n",
        "Contador: 4"
      ],
      "metadata": {
        "id": "3WnMTtem3Xi2"
      },
      "execution_count": null,
      "outputs": []
    },
    {
      "cell_type": "markdown",
      "source": [
        "**Ejercicios**\n",
        "\n",
        "Usa un bucle para imprimir los números del 1 al 10.\n",
        "\n",
        "Usa un bucle mientras para pedir al usuario que ingrese números hasta que ingrese un número negativo, y luego muestra la suma de todos los números ingresados."
      ],
      "metadata": {
        "id": "J2hVvnkH3YyD"
      }
    },
    {
      "cell_type": "code",
      "source": [
        "# Desarrollar el ejercicio acá"
      ],
      "metadata": {
        "id": "1ot4uSvW3mJy"
      },
      "execution_count": null,
      "outputs": []
    },
    {
      "cell_type": "markdown",
      "source": [
        "Ahora sabes cómo usar condicionales para tomar decisiones y bucles para repetir acciones en tus programas. Estas habilidades te permitirán escribir el código más interesante y útil."
      ],
      "metadata": {
        "id": "LS2E8HMw3tkU"
      }
    }
  ]
}