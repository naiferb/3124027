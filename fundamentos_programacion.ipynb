{
  "nbformat": 4,
  "nbformat_minor": 0,
  "metadata": {
    "colab": {
      "provenance": [],
      "authorship_tag": "ABX9TyPOD7kCMqMnLZhXKc0upsfw",
      "include_colab_link": true
    },
    "kernelspec": {
      "name": "python3",
      "display_name": "Python 3"
    },
    "language_info": {
      "name": "python"
    }
  },
  "cells": [
    {
      "cell_type": "markdown",
      "metadata": {
        "id": "view-in-github",
        "colab_type": "text"
      },
      "source": [
        "<a href=\"https://colab.research.google.com/github/naiferb/3124027/blob/main/fundamentos_programacion.ipynb\" target=\"_parent\"><img src=\"https://colab.research.google.com/assets/colab-badge.svg\" alt=\"Open In Colab\"/></a>"
      ]
    },
    {
      "cell_type": "markdown",
      "source": [
        "**Fundamentos de Programación**\n",
        "\n",
        "**¿Qué es programar?**\n",
        "\n",
        "Programar es el proceso de escribir instrucciones necesarias para que una computadora realice una tarea específica. Es como darle una receta detallada a alguien que no sabe cocinar: cada paso debe ser claro y estar en el orden correcto. Los programadores utilizan lenguajes de programación (como Python, JavaScript, Java o C++) para comunicarse con la computadora y resolver problemas o automatizar tareas.\n",
        "\n",
        "**Ejemplo**\n",
        "\n",
        "Imagina que quieres que la computadora sume dos números. Debes decirle exactamente qué hacer: \"Toma el primer número, toma el segundo número, súmalos y muestra el resultado\". En un lenguaje de programación como Python, esto se vería así:\n"
      ],
      "metadata": {
        "id": "8OubLmIAmB6c"
      }
    },
    {
      "cell_type": "code",
      "source": [
        "numero1 = 5\n",
        "numero2 = 3\n",
        "resultado = numero1 + numero2\n",
        "print(resultado)  # Muestra 8"
      ],
      "metadata": {
        "colab": {
          "base_uri": "https://localhost:8080/"
        },
        "id": "F-W_-toVm2cE",
        "outputId": "a3fc8164-51b4-4e37-c57c-3b79f4d55286"
      },
      "execution_count": null,
      "outputs": [
        {
          "output_type": "stream",
          "name": "stdout",
          "text": [
            "8\n"
          ]
        }
      ]
    },
    {
      "cell_type": "markdown",
      "source": [
        "**Ejercicio**\n",
        "\n",
        "Piensa en una tarea cotidiana, como hacer un sándwich. Escribe los pasos que seguirías para explicárselo a alguien que nunca lo ha hecho. Luego, reflexiona: ¿Qué pasaría si omite un paso o das una instrucción ambigua?"
      ],
      "metadata": {
        "id": "jRh73ly9n9Bm"
      }
    },
    {
      "cell_type": "code",
      "source": [
        "# Escribir paso a paso"
      ],
      "metadata": {
        "id": "1McromCWoBsJ"
      },
      "execution_count": null,
      "outputs": []
    },
    {
      "cell_type": "markdown",
      "source": [
        "**Representación de datos**\n",
        "\n",
        "Las computadoras manejan datos, pero estos deben representar de una manera que la máquina pueda procesar. Todo en una computadora se reduce a números binarios (0s y 1s), que son la base de toda la información digital. Hay diferentes tipos de datos: números enteros, números decimales (flotantes), texto, imágenes, etc., y cada uno se almacena y procesa de forma distinta.\n",
        "\n",
        "\n",
        "**Ejemplo**\n",
        "\n",
        "El número 5 en binario es 101 . La computadora usa este sistema porque sus circuitos solo pueden estar en dos estados: encendido (1) o apagado (0). Por ejemplo:\n",
        "\n",
        "\n",
        "\n",
        "*   Decimal: 5\n",
        "*   Binario: 101\n",
        "\n",
        "**Ejercicio**\n",
        "\n",
        "Convierta el número 7 a binario. Pista: Divide el número entre 2 y anota el resto hasta que el cociente sea 0. Luego, lee los restos de abajo hacia arriba."
      ],
      "metadata": {
        "id": "Pk1viq9poEwZ"
      }
    }
  ]
}