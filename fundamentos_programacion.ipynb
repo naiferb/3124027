{
  "nbformat": 4,
  "nbformat_minor": 0,
  "metadata": {
    "colab": {
      "provenance": [],
      "authorship_tag": "ABX9TyOVF6PEtii/3HHIcToLRA1c",
      "include_colab_link": true
    },
    "kernelspec": {
      "name": "python3",
      "display_name": "Python 3"
    },
    "language_info": {
      "name": "python"
    }
  },
  "cells": [
    {
      "cell_type": "markdown",
      "metadata": {
        "id": "view-in-github",
        "colab_type": "text"
      },
      "source": [
        "<a href=\"https://colab.research.google.com/github/naiferb/3124027/blob/main/fundamentos_programacion.ipynb\" target=\"_parent\"><img src=\"https://colab.research.google.com/assets/colab-badge.svg\" alt=\"Open In Colab\"/></a>"
      ]
    },
    {
      "cell_type": "markdown",
      "source": [
        "**Fundamentos de Programación**\n",
        "\n",
        "**¿Qué es programar?**\n",
        "\n",
        "Programar es el proceso de escribir instrucciones necesarias para que una computadora realice una tarea específica. Es como darle una receta detallada a alguien que no sabe cocinar: cada paso debe ser claro y estar en el orden correcto. Los programadores utilizan lenguajes de programación (como Python, JavaScript, Java o C++) para comunicarse con la computadora y resolver problemas o automatizar tareas.\n",
        "\n",
        "**Ejemplo**\n",
        "\n",
        "Imagina que quieres que la computadora sume dos números. Debes decirle exactamente qué hacer: \"Toma el primer número, toma el segundo número, súmalos y muestra el resultado\". En un lenguaje de programación como Python, esto se vería así:\n"
      ],
      "metadata": {
        "id": "8OubLmIAmB6c"
      }
    },
    {
      "cell_type": "code",
      "source": [
        "numero1 = 5\n",
        "numero2 = 3\n",
        "resultado = numero1 + numero2\n",
        "print(resultado)  # Muestra 8"
      ],
      "metadata": {
        "colab": {
          "base_uri": "https://localhost:8080/"
        },
        "id": "F-W_-toVm2cE",
        "outputId": "a3fc8164-51b4-4e37-c57c-3b79f4d55286",
        "collapsed": true
      },
      "execution_count": null,
      "outputs": [
        {
          "output_type": "stream",
          "name": "stdout",
          "text": [
            "8\n"
          ]
        }
      ]
    },
    {
      "cell_type": "markdown",
      "source": [
        "**Ejercicio**\n",
        "\n",
        "Piensa en una tarea cotidiana, como hacer un sándwich. Escribe los pasos que seguirías para explicárselo a alguien que nunca lo ha hecho. Luego, reflexiona: ¿Qué pasaría si omite un paso o das una instrucción ambigua?"
      ],
      "metadata": {
        "id": "jRh73ly9n9Bm"
      }
    },
    {
      "cell_type": "code",
      "source": [
        "# Escribir paso a paso"
      ],
      "metadata": {
        "id": "1McromCWoBsJ"
      },
      "execution_count": null,
      "outputs": []
    },
    {
      "cell_type": "markdown",
      "source": [
        "**Representación de datos**\n",
        "\n",
        "Las computadoras manejan datos, pero estos deben representar de una manera que la máquina pueda procesar. Todo en una computadora se reduce a números binarios (0s y 1s), que son la base de toda la información digital. Hay diferentes tipos de datos: números enteros, números decimales (flotantes), texto, imágenes, etc., y cada uno se almacena y procesa de forma distinta.\n",
        "\n",
        "\n",
        "**Ejemplo**\n",
        "\n",
        "El número 5 en binario es 101 . La computadora usa este sistema porque sus circuitos solo pueden estar en dos estados: encendido (1) o apagado (0). Por ejemplo:\n",
        "\n",
        "\n",
        "\n",
        "*   Decimal: 5\n",
        "*   Binario: 101\n",
        "\n",
        "**Ejercicio**\n",
        "\n",
        "Convierta el número 7 a binario. Pista: Divide el número entre 2 y anota el resto hasta que el cociente sea 0. Luego, lee los restos de abajo hacia arriba."
      ],
      "metadata": {
        "id": "Pk1viq9poEwZ"
      }
    },
    {
      "cell_type": "markdown",
      "source": [
        "**Computadoras**\n",
        "\n",
        "Una computadora es una máquina que procesa datos siguiendo las instrucciones de un programa. Está compuesto por:\n",
        "\n",
        "\n",
        "* **Hardware :** Partes físicas como el procesador (CPU), la memoria, el disco duro y los dispositivos de entrada/salida (teclado, pantalla, etc.).\n",
        "* **Software :** Programas que se ejecutan en el hardware y le dicen qué hacer. El procesador es el \"cerebro\" de la computadora: ejecuta las instrucciones del programa, mientras que la memoria almacena temporalmente los datos y las instrucciones.\n",
        "\n",
        "\n",
        "**Ejemplo**\n",
        "\n",
        "Cuando escribes en un teclado, la computadora convierte tus pulsaciones en datos que pueden procesarse y mostrarse en la pantalla. Todo esto sucede gracias a programas que le dicen cómo manejar esa información.\n",
        "\n",
        "**Dato curioso**\n",
        "\n",
        "La CPU no \"piensa\"; solo sigue instrucciones muy rápido. Un procesador moderno puede ejecutar millas de millones de instrucciones por segundo.\n"
      ],
      "metadata": {
        "id": "D6NaRfN0uOR6"
      }
    },
    {
      "cell_type": "markdown",
      "source": [
        "**Representando texto**\n",
        "\n",
        "El texto se representa en la computadora mediante códigos numéricos. Cada carácter (letra, número, símbolo) tiene un número único asignado, basado en sistemas como ASCII o Unicode. Por ejemplo, en ASCII:\n",
        "\n",
        "\n",
        "*   'A' = 65\n",
        "*   'b' = 98\n",
        "*   '!' = 33\n",
        "\n",
        "La computadora almacena estos números en binario y los convierte en texto cuando es necesario mostrarlos.\n",
        "\n",
        "**Ejemplo**\n",
        "\n",
        "La palabra \"Hola\" se guarda como una secuencia de números:\n",
        "\n",
        "\n",
        "*   H = 72\n",
        "*   o = 111\n",
        "*   l = 108\n",
        "*   a = 97\n",
        "\n",
        " Cuando la computadora necesita mostrar \"Hola\", convierte estos números en los caracteres correspondientes.\n",
        "\n",
        "\n",
        "\n",
        "\n",
        "\n",
        "\n",
        "\n"
      ],
      "metadata": {
        "id": "nMhXtE4fxlIc"
      }
    },
    {
      "cell_type": "markdown",
      "source": [
        "**Representando imágenes**\n",
        "\n",
        "Las imágenes se representan como una cuadrícula de píxeles, donde cada píxel tiene un color específico. Cada color se define mediante números que indican la intensidad de rojo, verde y azul (RGB). Por ejemplo:\n",
        "\n",
        "\n",
        "*   Rojo puro: (255, 0, 0)\n",
        "*   Verde puro: (0, 255, 0)\n",
        "*   Azul puro: (0, 0, 255)\n",
        "*   Blanco: (255, 255, 255)\n",
        "*   Negro: (0, 0, 0)\n",
        "\n",
        "**Ejemplo**\n",
        "\n",
        "Una imagen de 2x2 píxeles podría representarse como una matriz de colores:\n",
        "\n",
        "\n",
        "\n",
        "\n",
        "\n"
      ],
      "metadata": {
        "id": "cqdxQXF5yZzq"
      }
    },
    {
      "cell_type": "code",
      "source": [
        "[(255, 0, 0), (0, 255, 0)]\n",
        "[(0, 0, 255), (255, 255, 0)]"
      ],
      "metadata": {
        "colab": {
          "base_uri": "https://localhost:8080/"
        },
        "id": "rTttx8jUy30a",
        "outputId": "ed42d032-8194-43c4-aedc-9254a7e9262c"
      },
      "execution_count": 3,
      "outputs": [
        {
          "output_type": "execute_result",
          "data": {
            "text/plain": [
              "[(0, 0, 255), (255, 255, 0)]"
            ]
          },
          "metadata": {},
          "execution_count": 3
        }
      ]
    },
    {
      "cell_type": "markdown",
      "source": [
        "Cada tupla representa el color de un píxel: rojo, verde, azul y amarillo."
      ],
      "metadata": {
        "id": "VRk6p9AszEDu"
      }
    },
    {
      "cell_type": "markdown",
      "source": [
        "**¿Qué es un algoritmo?**\n",
        "\n",
        "Un algoritmo es una secuencia ordenada de pasos para resolver un problema o realizar una tarea. Es como una receta: debe ser claro, tener un inicio y un fin, y cada paso debe ser preciso. Los algoritmos son la base de la programación, ya que describe la lógica que seguirá el programa.\n",
        "\n",
        "**Ejemplo**\n",
        "\n",
        "Un algoritmo para encontrar el número más grande en una lista:\n",
        "\n",
        "\n",
        "*   Empieza asumiendo que el primer número es el más grande.\n",
        "*   Compare ese número con el siguiente.\n",
        "*   Si el siguiente es mayor, actualiza tu suposición.\n",
        "*   Repite hasta el final de la lista.\n",
        "\n",
        "\n",
        "\n",
        "\n",
        "\n",
        "\n",
        "\n",
        "\n"
      ],
      "metadata": {
        "id": "vlUuvDM2zG_p"
      }
    },
    {
      "cell_type": "markdown",
      "source": [
        "**Pseudocódigo**\n",
        "\n",
        "El pseudocódigo es una forma de escribir algoritmos usando un lenguaje similar al natural, pero con una estructura que se asemeja a la de un lenguaje de programación. No es código real, sino una herramienta para planificar la lógica antes de programar. Usa palabras claves como \"Inicio\", \"Fin\", \"Si\", \"Mientras\", etc."
      ],
      "metadata": {
        "id": "RIG9Faoy0zou"
      }
    },
    {
      "cell_type": "code",
      "source": [
        "Algoritmo SumarDosNumeros\n",
        "    Inicio\n",
        "        Leer numero1\n",
        "        Leer numero2\n",
        "        suma = numero1 + numero2\n",
        "        Escribir suma\n",
        "    Fin"
      ],
      "metadata": {
        "id": "gE5iW2yh07v9"
      },
      "execution_count": null,
      "outputs": []
    },
    {
      "cell_type": "markdown",
      "source": [
        "**Ejercicio**\n",
        "\n",
        "Escribe en pseudocódigo un algoritmo que determina si un número es par o impar."
      ],
      "metadata": {
        "id": "jtuN-o0y0_Y2"
      }
    },
    {
      "cell_type": "code",
      "source": [
        "Algoritmo EsPar\n",
        "    Inicio\n",
        "        Leer numero\n",
        "        Si numero % 2 = 0 Entonces\n",
        "            Escribir \"El número es par\"\n",
        "        Sino\n",
        "            Escribir \"El número es impar\"\n",
        "        Fin Si\n",
        "    Fin"
      ],
      "metadata": {
        "id": "p0Vsey9e1DcE"
      },
      "execution_count": null,
      "outputs": []
    },
    {
      "cell_type": "markdown",
      "source": [
        "Ahora entiendes qué es programar, cómo se representan los datos, cómo funcionan las computadoras y cómo se pueden dar instrucciones mediante algoritmos y pseudocódigo. Practica los ejercicios y revisa las secciones si algo no te queda claro."
      ],
      "metadata": {
        "id": "B73Qw-V11SiP"
      }
    }
  ]
}